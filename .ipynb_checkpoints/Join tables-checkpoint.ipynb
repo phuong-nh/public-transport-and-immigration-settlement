{
 "cells": [
  {
   "cell_type": "code",
   "execution_count": 1,
   "metadata": {},
   "outputs": [],
   "source": [
    "import arcpy\n",
    "import os\n",
    "from arcpy import env"
   ]
  },
  {
   "cell_type": "code",
   "execution_count": 2,
   "metadata": {},
   "outputs": [],
   "source": [
    "env.workspace = \"D:\\\\Aalto University\\\\B.Sc Econ - Immigration & Public Transportation\\\\Immigrant Pattern & Public Transport Accessibility\"\n",
    "\n",
    "central_folder = os.path.join(env.workspace, \"Data\\\\Travel_Time_Matrix_tables\")\n",
    "ykr_grid_table = os.path.join(env.workspace, \"Data\\\\MetropAccess_YKR_grid\\\\MetropAccess_YKR_grid_EurefFIN.shp\")\n",
    "district_table = os.path.join(env.workspace, \"Data\\\\HMA_districts\\\\HEV_districts.shp\")"
   ]
  },
  {
   "cell_type": "code",
   "execution_count": 3,
   "metadata": {},
   "outputs": [
    {
     "data": {
      "text/html": [
       "<div class='gpresult'><h2>Messages</h2><div id='messages' data-messages='[\"Start Time: Tuesday, 15 August 2023 0.14.54\",\"Succeeded at Tuesday, 15 August 2023 0.14.54 (Elapsed Time: 0,18 seconds)\"]' data-show='true'><div id = 'default' /></div></div>"
      ],
      "text/plain": [
       "<Result 'D:\\\\Aalto University\\\\B.Sc Econ - Immigration & Public Transportation\\\\Immigrant Pattern & Public Transport Accessibility\\\\Data\\\\joined-districts.shp'>"
      ]
     },
     "execution_count": 3,
     "metadata": {},
     "output_type": "execute_result"
    }
   ],
   "source": [
    "# Check if larger_district_file already exists and delete if true\n",
    "larger_district_file = os.path.join(env.workspace, \"Data\", \"joined-districts.shp\")\n",
    "if arcpy.Exists(larger_district_file):\n",
    "    arcpy.Delete_management(larger_district_file)\n",
    "\n",
    "# Create a larger district file by copying the original district file\n",
    "arcpy.Copy_management(district_table, larger_district_file)"
   ]
  },
  {
   "cell_type": "code",
   "execution_count": 6,
   "metadata": {},
   "outputs": [],
   "source": [
    "file_list = [os.path.join(central_folder, f) for f in os.listdir(central_folder) if f.endswith('.txt')]"
   ]
  },
  {
   "cell_type": "code",
   "execution_count": null,
   "metadata": {},
   "outputs": [],
   "source": [
    "for file in file_list:\n",
    "    year_id = file.split(\"\\\\\")[-1].replace(\".txt\", \"\")\n",
    "    year, file_id = year_id.split('-')\n",
    "    print(f\"Processing {year_id}\"\")\n",
    "\n",
    "    in_table = os.path.join(central_folder, file)\n",
    "\n",
    "    # Create a temporary table view specifying the delimiter as ';'\n",
    "    temp_view = \"temp_view\"\n",
    "    \n",
    "    try:\n",
    "        arcpy.MakeTableView_management(in_table, temp_view, \"\", \"\", field_info=\"from_id from_id VISIBLE NONE;to_id to_id VISIBLE NONE;walk_t walk_t VISIBLE NONE;walk_d walk_d VISIBLE NONE;pt_m_tt pt_m_tt VISIBLE NONE;pt_m_t pt_m_t VISIBLE NONE;pt_m_d pt_m_d VISIBLE NONE;car_m_t car_m_t VISIBLE NONE;car_m_d car_m_d VISIBLE NONE\")\n",
    "    except Exception as e:\n",
    "        print(f\"Error creating the temp view for {in_table}. Error: {str(e)}\")\n",
    "        continue\n",
    "\n",
    "    # Join with YKR grid table\n",
    "    arcpy.JoinField_management(ykr_grid_table, \"YKR_ID\", temp_view, \"from_id\")\n",
    "\n",
    "    # Remove rows with values of -1\n",
    "    with arcpy.da.UpdateCursor(ykr_grid_table, \"*\") as cursor:\n",
    "        for row in cursor:\n",
    "            if -1 in row:\n",
    "                cursor.deleteRow()\n",
    "\n",
    "    # Spatial join with the district table\n",
    "    spatial_join_output = \"spatial_join_\" + year_id\n",
    "    field_mappings = arcpy.FieldMappings()\n",
    "    for field in arcpy.ListFields(ykr_grid_table):\n",
    "        if field.name not in [\"from_id\", \"to_id\"]:\n",
    "            field_map = arcpy.FieldMap()\n",
    "            field_map.addInputField(ykr_grid_table, field.name)\n",
    "            field_map.mergeRule = \"Min\"\n",
    "            field_mappings.addFieldMap(field_map)\n",
    "\n",
    "    arcpy.SpatialJoin_analysis(target_features=ykr_grid_table, join_features=district_table,\n",
    "                                out_feature_class=spatial_join_output, join_type=\"KEEP_COMMON\", field_mapping=field_mappings)\n",
    "\n",
    "   # Rename columns\n",
    "    for field in arcpy.ListFields(spatial_join_output):\n",
    "        if field.name not in [\"from_id\", \"to_id\"]:\n",
    "            new_name = f\"{year}-{file_id}-{field.name}\"\n",
    "            arcpy.AlterField_management(spatial_join_output, field.name, new_name)\n",
    "\n",
    "    # Join the new fields to the larger district file\n",
    "    arcpy.JoinField_management(larger_district_file, \"from_id\", spatial_join_output, \"from_id\")\n",
    "\n",
    "    # Cleanup the joins from the ykr_grid_table for the next iteration\n",
    "    for field in arcpy.ListFields(ykr_grid_table):\n",
    "        if field.name.startswith(year + \"-\" + file_id):\n",
    "            arcpy.DeleteField_management(ykr_grid_table, field.name)"
   ]
  }
 ],
 "metadata": {
  "kernelspec": {
   "display_name": "ArcGISPro",
   "language": "Python",
   "name": "python3"
  },
  "language_info": {
   "file_extension": ".py",
   "name": "python",
   "version": "3"
  }
 },
 "nbformat": 4,
 "nbformat_minor": 2
}
