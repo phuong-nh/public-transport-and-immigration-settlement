{
 "cells": [
  {
   "cell_type": "code",
   "execution_count": 14,
   "metadata": {},
   "outputs": [],
   "source": [
    "import arcpy\n",
    "import os\n",
    "from arcpy import env"
   ]
  },
  {
   "cell_type": "code",
   "execution_count": 15,
   "metadata": {},
   "outputs": [],
   "source": [
    "# Setting up the environment\n",
    "env.workspace = \"D:/AALTO UNIVERSITY/B.SC ECON - IMMIGRATION & PUBLIC TRANSPORTATION/IMMIGRANT PATTERN & PUBLIC TRANSPORT ACCESSIBILITY/DATA\"\n",
    "\n",
    "# Define paths\n",
    "central_folder = os.path.join(env.workspace, \"Travel_Time_Matrix_tables\")\n",
    "ykr_grid_table = os.path.join(env.workspace, \"MetropAccess_YKR_grid\", \"MetropAccess_YKR_grid_EurefFIN.shp\")\n",
    "district_table = os.path.join(env.workspace, \"HMA_districts\", \"HEV_districts.shp\")\n",
    "larger_district_file = os.path.join(env.workspace, \"joined-districts.shp\")"
   ]
  },
  {
   "cell_type": "code",
   "execution_count": 16,
   "metadata": {},
   "outputs": [
    {
     "name": "stdout",
     "output_type": "stream",
     "text": [
      "2013 5874358\n",
      "2013 5878088\n",
      "2013 5911249\n",
      "2013 5934892\n",
      "2013 5934906\n",
      "2013 5952975\n",
      "2013 5958354\n",
      "2013 5961860\n",
      "2013 5961890\n",
      "2013 5961894\n",
      "2013 5968821\n",
      "2013 5975374\n",
      "2013 5978639\n",
      "2013 5980222\n",
      "2013 5980260\n",
      "2015 5874358\n",
      "2015 5878088\n",
      "2015 5911249\n",
      "2015 5934892\n",
      "2015 5934906\n",
      "2015 5952975\n",
      "2015 5958354\n",
      "2015 5961860\n",
      "2015 5961890\n",
      "2015 5961894\n",
      "2015 5968821\n",
      "2015 5975374\n",
      "2015 5978639\n",
      "2015 5980222\n",
      "2015 5980260\n",
      "2018 5874358\n",
      "2018 5878088\n",
      "2018 5911249\n",
      "2018 5934892\n",
      "2018 5934906\n",
      "2018 5952975\n",
      "2018 5958354\n",
      "2018 5961860\n",
      "2018 5961890\n",
      "2018 5961894\n",
      "2018 5968821\n",
      "2018 5975374\n",
      "2018 5978639\n",
      "2018 5980222\n",
      "2018 5980260\n"
     ]
    }
   ],
   "source": [
    "file_list = [os.path.join(central_folder, f) for f in os.listdir(central_folder) if f.endswith('.txt')]\n",
    "\n",
    "for file in file_list:\n",
    "    year_id = os.path.basename(file).replace(\".txt\", \"\")\n",
    "    year, file_id = year_id.split('-')\n",
    "    print(year, file_id)"
   ]
  },
  {
   "cell_type": "code",
   "execution_count": 17,
   "metadata": {},
   "outputs": [
    {
     "data": {
      "text/html": [
       "<div class='gpresult'><h2>Messages</h2><div id='messages' data-messages='[\"Start Time: Tuesday, 15 August 2023 0.35.51\",\"Succeeded at Tuesday, 15 August 2023 0.35.51 (Elapsed Time: 0,05 seconds)\"]' data-show='true'><div id = 'default' /></div></div>"
      ],
      "text/plain": [
       "<Result 'D:\\\\AALTO UNIVERSITY\\\\B.SC ECON - IMMIGRATION & PUBLIC TRANSPORTATION\\\\IMMIGRANT PATTERN & PUBLIC TRANSPORT ACCESSIBILITY\\\\Data\\\\joined-districts.shp'>"
      ]
     },
     "execution_count": 17,
     "metadata": {},
     "output_type": "execute_result"
    }
   ],
   "source": [
    "# Check if larger_district_file already exists and delete if true\n",
    "if arcpy.Exists(larger_district_file):\n",
    "    arcpy.Delete_management(larger_district_file)\n",
    "\n",
    "# Create a larger district file by copying the original district file\n",
    "arcpy.Copy_management(district_table, larger_district_file)"
   ]
  },
  {
   "cell_type": "code",
   "execution_count": null,
   "metadata": {},
   "outputs": [],
   "source": []
  }
 ],
 "metadata": {
  "kernelspec": {
   "display_name": "ArcGISPro",
   "language": "Python",
   "name": "python3"
  },
  "language_info": {
   "file_extension": ".py",
   "name": "python",
   "version": "3"
  }
 },
 "nbformat": 4,
 "nbformat_minor": 2
}
