{
 "cells": [
  {
   "cell_type": "code",
   "execution_count": 1,
   "metadata": {},
   "outputs": [],
   "source": [
    "import arcpy\n",
    "import os\n",
    "from arcpy import env"
   ]
  },
  {
   "cell_type": "code",
   "execution_count": 2,
   "metadata": {},
   "outputs": [],
   "source": [
    "env.workspace = \"D:\\\\Aalto University\\\\B.Sc Econ - Immigration & Public Transportation\\\\Immigrant Pattern & Public Transport Accessibility\"\n",
    "\n",
    "central_folder = os.path.join(env.workspace, \"Data\\\\Travel_Time_Matrix_tables\")\n",
    "ykr_grid_table = os.path.join(env.workspace, \"Data\\\\MetropAccess_YKR_grid\\\\MetropAccess_YKR_grid_EurefFIN.shp\")\n",
    "district_table = os.path.join(env.workspace, \"Data\\\\HMA_districts\\\\HEV_districts.shp\")"
   ]
  },
  {
   "cell_type": "code",
   "execution_count": 3,
   "metadata": {},
   "outputs": [
    {
     "data": {
      "text/html": [
       "<div class='gpresult'><h2>Messages</h2><div id='messages' data-messages='[\"Start Time: Tuesday, 15 August 2023 0.20.43\",\"Succeeded at Tuesday, 15 August 2023 0.20.43 (Elapsed Time: 0,09 seconds)\"]' data-show='true'><div id = 'default' /></div></div>"
      ],
      "text/plain": [
       "<Result 'D:\\\\Aalto University\\\\B.Sc Econ - Immigration & Public Transportation\\\\Immigrant Pattern & Public Transport Accessibility\\\\Data\\\\joined-districts.shp'>"
      ]
     },
     "execution_count": 3,
     "metadata": {},
     "output_type": "execute_result"
    }
   ],
   "source": [
    "# Check if larger_district_file already exists and delete if true\n",
    "larger_district_file = os.path.join(env.workspace, \"Data\", \"joined-districts.shp\")\n",
    "if arcpy.Exists(larger_district_file):\n",
    "    arcpy.Delete_management(larger_district_file)\n",
    "\n",
    "# Create a larger district file by copying the original district file\n",
    "arcpy.Copy_management(district_table, larger_district_file)"
   ]
  },
  {
   "cell_type": "code",
   "execution_count": 5,
   "metadata": {},
   "outputs": [
    {
     "name": "stdout",
     "output_type": "stream",
     "text": [
      "2013-5874358, 2013-5878088, 2013-5911249, 2013-5934892, 2013-5934906, 2013-5952975, 2013-5958354, 2013-5961860, 2013-5961890, 2013-5961894, 2013-5968821, 2013-5975374, 2013-5978639, 2013-5980222, 2013-5980260, 2015-5874358, 2015-5878088, 2015-5911249, 2015-5934892, 2015-5934906, 2015-5952975, 2015-5958354, 2015-5961860, 2015-5961890, 2015-5961894, 2015-5968821, 2015-5975374, 2015-5978639, 2015-5980222, 2015-5980260, 2018-5874358, 2018-5878088, 2018-5911249, 2018-5934892, 2018-5934906, 2018-5952975, 2018-5958354, 2018-5961860, 2018-5961890, 2018-5961894, 2018-5968821, 2018-5975374, 2018-5978639, 2018-5980222, 2018-5980260, "
     ]
    }
   ],
   "source": [
    "file_list = [os.path.join(central_folder, f) for f in os.listdir(central_folder) if f.endswith('.txt')]\n",
    "\n",
    "for file in file_list:\n",
    "    year_id = file.split(\"\\\\\")[-1].replace(\".txt\", \"\")\n",
    "    print(year_id, end=\", \")"
   ]
  },
  {
   "cell_type": "code",
   "execution_count": null,
   "metadata": {},
   "outputs": [],
   "source": [
    "def test(file):\n",
    "    "
   ]
  }
 ],
 "metadata": {
  "kernelspec": {
   "display_name": "ArcGISPro",
   "language": "Python",
   "name": "python3"
  },
  "language_info": {
   "file_extension": ".py",
   "name": "python",
   "version": "3"
  }
 },
 "nbformat": 4,
 "nbformat_minor": 2
}
