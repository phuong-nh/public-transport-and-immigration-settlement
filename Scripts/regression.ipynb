{
 "cells": [
  {
   "cell_type": "code",
   "execution_count": 24,
   "metadata": {},
   "outputs": [],
   "source": [
    "import statsmodels.api as sm\n",
    "import pandas as pd\n",
    "import numpy as np\n"
   ]
  },
  {
   "cell_type": "code",
   "execution_count": 25,
   "metadata": {},
   "outputs": [],
   "source": [
    "df = pd.read_csv('../Data/extrapolated.csv')"
   ]
  },
  {
   "cell_type": "code",
   "execution_count": 26,
   "metadata": {},
   "outputs": [
    {
     "name": "stdout",
     "output_type": "stream",
     "text": [
      "                                 OLS Regression Results                                 \n",
      "========================================================================================\n",
      "Dep. Variable:     non_official_lang_percentage   R-squared:                       0.045\n",
      "Model:                                      OLS   Adj. R-squared:                  0.044\n",
      "Method:                           Least Squares   F-statistic:                     40.12\n",
      "Date:                          Wed, 16 Aug 2023   Prob (F-statistic):           3.89e-10\n",
      "Time:                                  05:49:16   Log-Likelihood:                 1021.6\n",
      "No. Observations:                           845   AIC:                            -2039.\n",
      "Df Residuals:                               843   BIC:                            -2030.\n",
      "Df Model:                                     1                                         \n",
      "Covariance Type:                      nonrobust                                         \n",
      "=======================================================================================\n",
      "                          coef    std err          t      P>|t|      [0.025      0.975]\n",
      "---------------------------------------------------------------------------------------\n",
      "const                   0.1561      0.007     23.561      0.000       0.143       0.169\n",
      "time_to_fastest_cbd    -0.0147      0.002     -6.334      0.000      -0.019      -0.010\n",
      "==============================================================================\n",
      "Omnibus:                      213.999   Durbin-Watson:                   0.690\n",
      "Prob(Omnibus):                  0.000   Jarque-Bera (JB):              431.795\n",
      "Skew:                           1.445   Prob(JB):                     1.73e-94\n",
      "Kurtosis:                       4.979   Cond. No.                         8.40\n",
      "==============================================================================\n",
      "\n",
      "Notes:\n",
      "[1] Standard Errors assume that the covariance matrix of the errors is correctly specified.\n"
     ]
    }
   ],
   "source": [
    "df_copy = df.copy()\n",
    "df_copy = df_copy[df_copy['Year'].apply(lambda x: x in [2013,2015,2018])]\n",
    "\n",
    "df_copy['time_to_fastest_cbd'] = df_copy['time_to_fastest_cbd'].apply(lambda x: x+1)\n",
    "df_copy['time_to_fastest_cbd'] = np.log(df_copy['time_to_fastest_cbd'])\n",
    "\n",
    "y = df_copy['non_official_lang_percentage']\n",
    "X = df_copy['time_to_fastest_cbd']\n",
    "\n",
    "X = sm.add_constant(X)\n",
    "\n",
    "model = sm.OLS(y, X).fit()\n",
    "\n",
    "print(model.summary())"
   ]
  },
  {
   "cell_type": "code",
   "execution_count": 27,
   "metadata": {},
   "outputs": [
    {
     "name": "stdout",
     "output_type": "stream",
     "text": [
      "                                 OLS Regression Results                                 \n",
      "========================================================================================\n",
      "Dep. Variable:     non_official_lang_percentage   R-squared:                       0.021\n",
      "Model:                                      OLS   Adj. R-squared:                  0.021\n",
      "Method:                           Least Squares   F-statistic:                     48.47\n",
      "Date:                          Wed, 16 Aug 2023   Prob (F-statistic):           4.37e-12\n",
      "Time:                                  05:49:16   Log-Likelihood:                 2562.8\n",
      "No. Observations:                          2259   AIC:                            -5122.\n",
      "Df Residuals:                              2257   BIC:                            -5110.\n",
      "Df Model:                                     1                                         \n",
      "Covariance Type:                      nonrobust                                         \n",
      "==============================================================================\n",
      "                 coef    std err          t      P>|t|      [0.025      0.975]\n",
      "------------------------------------------------------------------------------\n",
      "const          0.1510      0.004     38.111      0.000       0.143       0.159\n",
      "5975374       -0.0007      0.000     -6.962      0.000      -0.001      -0.001\n",
      "==============================================================================\n",
      "Omnibus:                      502.427   Durbin-Watson:                   0.322\n",
      "Prob(Omnibus):                  0.000   Jarque-Bera (JB):              952.340\n",
      "Skew:                           1.353   Prob(JB):                    1.59e-207\n",
      "Kurtosis:                       4.671   Cond. No.                         93.2\n",
      "==============================================================================\n",
      "\n",
      "Notes:\n",
      "[1] Standard Errors assume that the covariance matrix of the errors is correctly specified.\n"
     ]
    }
   ],
   "source": [
    "y = df['non_official_lang_percentage']\n",
    "X = df['5975374']\n",
    "\n",
    "X = sm.add_constant(X)\n",
    "\n",
    "model = sm.OLS(y, X).fit()\n",
    "\n",
    "print(model.summary())"
   ]
  },
  {
   "cell_type": "code",
   "execution_count": 28,
   "metadata": {},
   "outputs": [
    {
     "name": "stdout",
     "output_type": "stream",
     "text": [
      "                                 OLS Regression Results                                 \n",
      "========================================================================================\n",
      "Dep. Variable:     non_official_lang_percentage   R-squared:                       0.243\n",
      "Model:                                      OLS   Adj. R-squared:                  0.238\n",
      "Method:                           Least Squares   F-statistic:                     48.08\n",
      "Date:                          Wed, 16 Aug 2023   Prob (F-statistic):          6.14e-124\n",
      "Time:                                  05:49:16   Log-Likelihood:                 2853.7\n",
      "No. Observations:                          2259   AIC:                            -5675.\n",
      "Df Residuals:                              2243   BIC:                            -5584.\n",
      "Df Model:                                    15                                         \n",
      "Covariance Type:                      nonrobust                                         \n",
      "==============================================================================\n",
      "                 coef    std err          t      P>|t|      [0.025      0.975]\n",
      "------------------------------------------------------------------------------\n",
      "const          0.2863      0.014     21.005      0.000       0.260       0.313\n",
      "5874358    -2.052e-06      0.000     -0.011      0.991      -0.000       0.000\n",
      "5878088       -0.0019      0.000     -5.681      0.000      -0.003      -0.001\n",
      "5911249       -0.0020      0.000     -5.463      0.000      -0.003      -0.001\n",
      "5934892       -0.0007      0.000     -1.857      0.064      -0.002    4.15e-05\n",
      "5934906       -0.0010      0.000     -3.053      0.002      -0.002      -0.000\n",
      "5952975        0.0031      0.000      6.730      0.000       0.002       0.004\n",
      "5958354       -0.0027      0.000     -6.198      0.000      -0.004      -0.002\n",
      "5961860        0.0006      0.000      1.993      0.046    9.86e-06       0.001\n",
      "5961890        0.0059      0.001      6.379      0.000       0.004       0.008\n",
      "5961894       -0.0055      0.001     -6.374      0.000      -0.007      -0.004\n",
      "5968821        0.0024      0.001      2.197      0.028       0.000       0.005\n",
      "5975374       -0.0008      0.001     -0.717      0.473      -0.003       0.001\n",
      "5978639        0.0015      0.001      1.804      0.071      -0.000       0.003\n",
      "5980222       -0.0020      0.000     -7.418      0.000      -0.003      -0.001\n",
      "5980260        0.0006      0.001      1.183      0.237      -0.000       0.002\n",
      "==============================================================================\n",
      "Omnibus:                      386.467   Durbin-Watson:                   0.388\n",
      "Prob(Omnibus):                  0.000   Jarque-Bera (JB):              684.813\n",
      "Skew:                           1.080   Prob(JB):                    1.97e-149\n",
      "Kurtosis:                       4.616   Cond. No.                     1.62e+03\n",
      "==============================================================================\n",
      "\n",
      "Notes:\n",
      "[1] Standard Errors assume that the covariance matrix of the errors is correctly specified.\n",
      "[2] The condition number is large, 1.62e+03. This might indicate that there are\n",
      "strong multicollinearity or other numerical problems.\n"
     ]
    }
   ],
   "source": [
    "access_columns = ['5874358', '5878088', '5911249', '5934892', '5934906', '5952975', '5958354', '5961860', '5961890', '5961894', '5968821', '5975374', '5978639', '5980222', '5980260']\n",
    "\n",
    "y = df['non_official_lang_percentage']\n",
    "X = df[access_columns]\n",
    "\n",
    "X = sm.add_constant(X)\n",
    "\n",
    "model = sm.OLS(y, X).fit()\n",
    "\n",
    "print(model.summary())"
   ]
  },
  {
   "cell_type": "code",
   "execution_count": 29,
   "metadata": {},
   "outputs": [],
   "source": [
    "from sklearn.linear_model import ElasticNet\n",
    "from sklearn.model_selection import train_test_split\n",
    "from sklearn.metrics import mean_squared_error\n",
    "from sklearn.preprocessing import StandardScaler"
   ]
  },
  {
   "cell_type": "code",
   "execution_count": 30,
   "metadata": {},
   "outputs": [
    {
     "name": "stdout",
     "output_type": "stream",
     "text": [
      "Mean Squared Error: 0.005572650225819905\n",
      "[-0.         -0.         -0.01062534 -0.         -0.         -0.\n",
      " -0.         -0.         -0.         -0.         -0.         -0.\n",
      " -0.         -0.         -0.        ]\n"
     ]
    }
   ],
   "source": [
    "from sklearn.linear_model import Lasso\n",
    "from sklearn.model_selection import train_test_split\n",
    "from sklearn.metrics import mean_squared_error\n",
    "from sklearn.preprocessing import StandardScaler\n",
    "\n",
    "# List of columns representing time to different CBDs\n",
    "access_columns = ['5874358', '5878088', '5911249', '5934892', '5934906', '5952975', '5958354', '5961860', '5961890', '5961894', '5968821', '5975374', '5978639', '5980222', '5980260']\n",
    "\n",
    "# Define dependent and independent variables\n",
    "y = df['non_official_lang_percentage']\n",
    "X = df[access_columns]\n",
    "\n",
    "# Scaling the data for Lasso Regression\n",
    "scaler = StandardScaler()\n",
    "X_scaled = scaler.fit_transform(X)\n",
    "\n",
    "# Split the data into training and test sets\n",
    "X_train, X_test, y_train, y_test = train_test_split(X_scaled, y, test_size=0.3, random_state=42)\n",
    "\n",
    "# Create and train the Lasso model\n",
    "lasso = Lasso(alpha=0.01)  # You can adjust the alpha value, which controls the strength of the regularization\n",
    "lasso.fit(X_train, y_train)\n",
    "\n",
    "# Predict on the test set\n",
    "y_pred = lasso.predict(X_test)\n",
    "\n",
    "# Calculate the mean squared error of the model\n",
    "mse = mean_squared_error(y_test, y_pred)\n",
    "print(f\"Mean Squared Error: {mse}\")\n",
    "\n",
    "# Print out the coefficients to inspect which variables the model kept\n",
    "print(lasso.coef_)\n"
   ]
  }
 ],
 "metadata": {
  "kernelspec": {
   "display_name": "Python 3",
   "language": "python",
   "name": "python3"
  },
  "language_info": {
   "codemirror_mode": {
    "name": "ipython",
    "version": 3
   },
   "file_extension": ".py",
   "mimetype": "text/x-python",
   "name": "python",
   "nbconvert_exporter": "python",
   "pygments_lexer": "ipython3",
   "version": "3.11.4"
  },
  "orig_nbformat": 4
 },
 "nbformat": 4,
 "nbformat_minor": 2
}
