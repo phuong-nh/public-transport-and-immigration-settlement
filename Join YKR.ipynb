{
 "cells": [
  {
   "cell_type": "code",
   "execution_count": 1,
   "metadata": {},
   "outputs": [],
   "source": [
    "import arcpy\n",
    "import os\n",
    "from arcpy import env"
   ]
  },
  {
   "cell_type": "code",
   "execution_count": 2,
   "metadata": {},
   "outputs": [],
   "source": [
    "# Setting up the environment\n",
    "env.workspace = \"D:/AALTO UNIVERSITY/B.SC ECON - IMMIGRATION & PUBLIC TRANSPORTATION/IMMIGRANT PATTERN & PUBLIC TRANSPORT ACCESSIBILITY/DATA\"\n",
    "\n",
    "# Define paths\n",
    "central_folder = os.path.join(env.workspace, \"Travel_Time_Matrix_tables\")\n",
    "ykr_grid_table = os.path.join(env.workspace, \"MetropAccess_YKR_grid\", \"MetropAccess_YKR_grid_EurefFIN.shp\")\n",
    "district_table = os.path.join(env.workspace, \"HMA_districts\", \"HMA_districts.shp\")\n",
    "merged_ykr_table = os.path.join(env.workspace, \"merged_ykr_table.shp\")"
   ]
  },
  {
   "cell_type": "code",
   "execution_count": 3,
   "metadata": {},
   "outputs": [
    {
     "name": "stdout",
     "output_type": "stream",
     "text": [
      "45\n"
     ]
    }
   ],
   "source": [
    "file_list = [os.path.join(central_folder, f) for f in os.listdir(central_folder) if f.endswith('.txt')]\n",
    "print(len(file_list))"
   ]
  },
  {
   "cell_type": "code",
   "execution_count": 4,
   "metadata": {},
   "outputs": [
    {
     "data": {
      "text/html": [
       "<div class='gpresult'><h2>Messages</h2><div id='messages' data-messages='[\"Start Time: Wednesday, 16 August 2023 2.23.21\",\"Succeeded at Wednesday, 16 August 2023 2.23.21 (Elapsed Time: 0,04 seconds)\"]' data-show='true'><div id = 'default' /></div></div>"
      ],
      "text/plain": [
       "<Result 'D:/AALTO UNIVERSITY/B.SC ECON - IMMIGRATION & PUBLIC TRANSPORTATION/IMMIGRANT PATTERN & PUBLIC TRANSPORT ACCESSIBILITY/Data\\\\merged.gdb'>"
      ]
     },
     "execution_count": 4,
     "metadata": {},
     "output_type": "execute_result"
    }
   ],
   "source": [
    "# The environment settings\n",
    "arcpy.env.overwriteOutput = True\n",
    "arcpy.env.workspace = env.workspace\n",
    "\n",
    "# Create a temporary geodatabase\n",
    "merged_gdb = \"merged.gdb\"\n",
    "arcpy.CreateFileGDB_management(env.workspace, merged_gdb)"
   ]
  },
  {
   "cell_type": "code",
   "execution_count": 5,
   "metadata": {},
   "outputs": [],
   "source": [
    "# Convert the shapefile to a geodatabase feature class\n",
    "merged_ykr_table_gdb = os.path.join(env.workspace, merged_gdb, \"merged_ykr_table_gdb\")\n",
    "arcpy.FeatureClassToFeatureClass_conversion(ykr_grid_table, os.path.join(env.workspace, merged_gdb), \"merged_ykr_table_gdb\")\n",
    "\n",
    "for file in file_list:\n",
    "    year_id = os.path.basename(file).replace(\".txt\", \"\")\n",
    "    year, file_id = year_id.split('-')\n",
    "    in_table = file\n",
    "    temp_table_path = os.path.join(env.workspace, merged_gdb, f\"temp_table_{year}_{file_id}\")\n",
    "\n",
    "    # Convert the text file to a table in the geodatabase\n",
    "    arcpy.TableToTable_conversion(in_table, os.path.join(env.workspace, merged_gdb), f\"temp_table_{year}_{file_id}\", \"\", \"\", \"SEMICOLON\")\n",
    "\n",
    "    # Rename desired columns in the geodatabase table\n",
    "    desired_fields = [\"pt_m_tt\", \"pt_m_t\", \"pt_m_d\"]\n",
    "    for field_name in desired_fields:\n",
    "        new_name = f\"{field_name}_{year}_{file_id}\"\n",
    "        if len(new_name) > 60:\n",
    "            new_name = new_name[:60]\n",
    "        arcpy.AlterField_management(temp_table_path, field_name, new_name, new_name)\n",
    "\n",
    "    # Delete unwanted fields from the table\n",
    "    fields_to_delete = [f.name for f in arcpy.ListFields(temp_table_path)\n",
    "                        if f.name not in [f\"{f}_{year}_{file_id}\" for f in desired_fields]\n",
    "                        and f.name not in [\"from_id\", \"to_id\", \"OID\", \"OBJECTID\"]]\n",
    "    if fields_to_delete:\n",
    "        arcpy.DeleteField_management(temp_table_path, fields_to_delete)\n",
    "\n",
    "    # Join with the merged YKR grid table in the geodatabase\n",
    "    arcpy.JoinField_management(merged_ykr_table_gdb, \"YKR_ID\", temp_table_path, \"from_id\")\n",
    "\n",
    "    # Delete unwanted fields `from_id` and `to_id`\n",
    "    arcpy.DeleteField_management(merged_ykr_table_gdb, [\"from_id\", \"to_id\"])\n",
    "\n",
    "    arcpy.Delete_management(temp_table_path)\n",
    "\n",
    "# Optionally, convert the geodatabase feature class back to a shapefile\n",
    "# arcpy.FeatureClassToShapefile_conversion([merged_ykr_table_gdb], env.workspace)\n",
    "\n",
    "# Clean up: delete the temporary geodatabase\n",
    "# arcpy.Delete_management(os.path.join(env.workspace, merged_gdb))"
   ]
  },
  {
   "cell_type": "code",
   "execution_count": 6,
   "metadata": {},
   "outputs": [],
   "source": [
    "# 1. Transform all -1 values to NULL in the merged YKR table.\n",
    "fields = arcpy.ListFields(merged_ykr_table_gdb)\n",
    "for field in fields:\n",
    "    if field.type in ['Double', 'Integer', 'Single', 'SmallInteger']:\n",
    "        with arcpy.da.UpdateCursor(merged_ykr_table_gdb, [field.name]) as cursor:\n",
    "            for row in cursor:\n",
    "                if row[0] == -1:\n",
    "                    row[0] = None\n",
    "                cursor.updateRow(row)"
   ]
  },
  {
   "cell_type": "code",
   "execution_count": 7,
   "metadata": {},
   "outputs": [
    {
     "data": {
      "text/html": [
       "<div class='gpresult'><h2>Messages</h2><div id='messages' data-messages='[\"Start Time: Wednesday, 16 August 2023 2.28.29\",\"Succeeded at Wednesday, 16 August 2023 2.28.31 (Elapsed Time: 1,59 seconds)\"]' data-show='true'><div id = 'default' /></div></div>"
      ],
      "text/plain": [
       "<Result 'D:\\\\AALTO UNIVERSITY\\\\B.SC ECON - IMMIGRATION & PUBLIC TRANSPORTATION\\\\IMMIGRANT PATTERN & PUBLIC TRANSPORT ACCESSIBILITY\\\\Data\\\\merged.gdb\\\\joined_districts'>"
      ]
     },
     "execution_count": 7,
     "metadata": {},
     "output_type": "execute_result"
    }
   ],
   "source": [
    "def field_exists_in_field_mappings(field_name, field_mappings):\n",
    "    \"\"\"Check if a field exists in the field mappings.\"\"\"\n",
    "    for i in range(field_mappings.fieldCount):\n",
    "        if field_mappings.getFieldMap(i).outputField.name == field_name:\n",
    "            return True\n",
    "    return False\n",
    "\n",
    "# Prepare field mappings for the spatial join\n",
    "field_mappings = arcpy.FieldMappings()\n",
    "\n",
    "larger_district_file = os.path.join(env.workspace, merged_gdb, \"joined_districts\")\n",
    "\n",
    "# List of reserved or system fields to exclude\n",
    "reserved_fields = [\"FID\", \"Shape\", \"OBJECTID\", \"Shape_Length\", \"Shape_Area\"]\n",
    "\n",
    "# Add all fields from the district_table to the field mappings\n",
    "for field in arcpy.ListFields(district_table):\n",
    "    if field.name not in reserved_fields and not field_exists_in_field_mappings(field.name, field_mappings):\n",
    "        field_map = arcpy.FieldMap()\n",
    "        field_map.addInputField(district_table, field.name)\n",
    "        field_mappings.addFieldMap(field_map)\n",
    "\n",
    "# List of fields to exclude from the YKR grid table\n",
    "exclude_fields = [\"OBJECTID\", \"Shape\", \"x\", \"y\", \"YKR_ID\", \"Shape_Length\", \"Shape_Area\"]\n",
    "\n",
    "for field in arcpy.ListFields(merged_ykr_table_gdb):\n",
    "    if field.name not in exclude_fields and not field_exists_in_field_mappings(field.name, field_mappings):\n",
    "        field_map = arcpy.FieldMap()\n",
    "        field_map.addInputField(merged_ykr_table_gdb, field.name)\n",
    "        field_map.mergeRule = \"Min\"\n",
    "        field_mappings.addFieldMap(field_map)\n",
    "\n",
    "# Perform the spatial join\n",
    "arcpy.analysis.SpatialJoin(target_features=district_table, \n",
    "                           join_features=merged_ykr_table_gdb,\n",
    "                           out_feature_class=larger_district_file, \n",
    "                           join_type=\"KEEP_COMMON\", \n",
    "                           field_mapping=field_mappings, \n",
    "                           match_option=\"INTERSECT\")\n"
   ]
  },
  {
   "cell_type": "code",
   "execution_count": null,
   "metadata": {},
   "outputs": [],
   "source": []
  }
 ],
 "metadata": {
  "kernelspec": {
   "display_name": "ArcGISPro",
   "language": "Python",
   "name": "python3"
  },
  "language_info": {
   "file_extension": ".py",
   "name": "python",
   "version": "3"
  }
 },
 "nbformat": 4,
 "nbformat_minor": 2
}
